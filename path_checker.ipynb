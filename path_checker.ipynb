{
 "cells": [
  {
   "cell_type": "code",
   "execution_count": 4,
   "id": "cardiac-maryland",
   "metadata": {},
   "outputs": [
    {
     "name": "stdout",
     "output_type": "stream",
     "text": [
      "Files and directories in ' C://Users//jocgis//Desktop//P//PAS_rysunek_planu_SHP_07_10_2020 ' :\n",
      "['dziali.fgb', 'PAS_przeznaczenia_terenow_07_10_2020.CPG', 'PAS_przeznaczenia_terenow_07_10_2020.dbf', 'PAS_przeznaczenia_terenow_07_10_2020.prj', 'PAS_przeznaczenia_terenow_07_10_2020.sbn', 'PAS_przeznaczenia_terenow_07_10_2020.sbx', 'PAS_przeznaczenia_terenow_07_10_2020.shp', 'PAS_przeznaczenia_terenow_07_10_2020.shp.xml', 'PAS_przeznaczenia_terenow_07_10_2020.shx', 'PAS_przeznaczenia_terenow_07_10_2020.zip', 'PAS_przeznaczenia_terenow_07_10_202020210214T1206.zip', 'PAS_przeznaczenia_terenow_07_10_202020210214T1251.zip', 'PAS_przeznaczenia_terenow_07_10_202020210215T0945.zip', 'PAS_przeznaczenia_terenow_07_10_202020210215T1019.zip', 'projekt.qgz']\n"
     ]
    }
   ],
   "source": [
    "# import OS module \n",
    "import os \n",
    "  \n",
    "# Get the list of all files and directories \n",
    "path = \"C://Users//jocgis//Desktop//P//PAS_rysunek_planu_SHP_07_10_2020\"\n",
    "dir_list = os.listdir(path) \n",
    "  \n",
    "print(\"Files and directories in '\", path, \"' :\") \n",
    "  \n",
    "# prints all files \n",
    "print(dir_list) "
   ]
  },
  {
   "cell_type": "code",
   "execution_count": null,
   "id": "disturbed-smell",
   "metadata": {},
   "outputs": [],
   "source": []
  }
 ],
 "metadata": {
  "kernelspec": {
   "display_name": "Python 3",
   "language": "python",
   "name": "python3"
  },
  "language_info": {
   "codemirror_mode": {
    "name": "ipython",
    "version": 3
   },
   "file_extension": ".py",
   "mimetype": "text/x-python",
   "name": "python",
   "nbconvert_exporter": "python",
   "pygments_lexer": "ipython3",
   "version": "3.8.5"
  }
 },
 "nbformat": 4,
 "nbformat_minor": 5
}
